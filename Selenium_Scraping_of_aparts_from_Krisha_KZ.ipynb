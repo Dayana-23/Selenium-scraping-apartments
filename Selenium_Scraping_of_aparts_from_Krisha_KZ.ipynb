{
  "cells": [
    {
      "cell_type": "markdown",
      "metadata": {
        "id": "t03B6WrQLh6d"
      },
      "source": [
        "# ✤ Web Scraping using Selenium of apartments from Krisha.KZ is done by Dayana student of BDA-1903 group.\n",
        "\n",
        "---\n",
        "\n"
      ]
    },
    {
      "cell_type": "markdown",
      "metadata": {
        "id": "Zd1POJnSLh6i"
      },
      "source": [
        "## TASK:\n",
        "From  https://krisha.kz/ I parsed about 170 apartments for sale or rent. from my city -**PAVLODAR**.\n",
        "\n",
        "+ The attributes that I found are: \"City\", \"Description\", \"Owner\", \"Price\", \"Sq_metre\", \"Floor\", \"Phone\", \"Link\".\n",
        "\n",
        "Only 2 files should be attached: \n",
        "+ 1. code. \n",
        "be sure to write comments at the beginning ( -5 ) that you will parse and at the end we show summary statistics ( 10 )\n",
        "and Conclusion.(10)\n",
        "+ 2.excel (do not forget to write the name and group). ( -5 )\n"
      ]
    },
    {
      "cell_type": "markdown",
      "metadata": {
        "id": "RARmSxtcLh6i"
      },
      "source": [
        "### ✤  IMPORTING \"SELENIUM\" LIBRARY FOR SCRAPPING:"
      ]
    },
    {
      "cell_type": "code",
      "execution_count": null,
      "metadata": {
        "id": "pGkhHUsKLh6j",
        "outputId": "7c81672e-8fb6-49d1-bd84-27432aabfc42"
      },
      "outputs": [
        {
          "name": "stdout",
          "output_type": "stream",
          "text": [
            "Requirement already satisfied: selenium in c:\\anaconda3\\lib\\site-packages (3.141.0)\n",
            "Requirement already satisfied: urllib3 in c:\\anaconda3\\lib\\site-packages (from selenium) (1.25.11)\n"
          ]
        }
      ],
      "source": [
        "# In the beginning Install the library\n",
        "!pip install selenium\n",
        "# !pip install webdriver_manager # optional!"
      ]
    },
    {
      "cell_type": "code",
      "execution_count": null,
      "metadata": {
        "id": "Oko9PX-QLh6l"
      },
      "outputs": [],
      "source": [
        "from selenium import webdriver\n",
        "#from webdriver_manager.chrome import ChromeDriverManager\n",
        "from selenium.webdriver.common.keys import Keys\n",
        "from selenium.webdriver import ActionChains\n",
        "from time import sleep\n",
        "import random"
      ]
    },
    {
      "cell_type": "markdown",
      "metadata": {
        "id": "nbbvKl66Lh6m"
      },
      "source": [
        "## ✤ Searching \"Krisha Kz Павлодар\" in google search tab:"
      ]
    },
    {
      "cell_type": "code",
      "execution_count": null,
      "metadata": {
        "id": "p5NkYv_9Lh6m"
      },
      "outputs": [],
      "source": [
        "# Seaching for my CITY -Pavlodar, in Google:\n",
        "driver = webdriver.Chrome(executable_path = r'C:\\Users\\клиент\\Desktop\\3.Info Retriev & Data M\\4. Week-5\\chromedriver.exe')\n",
        "driver.maximize_window()\n",
        "driver.get('https://google.com')\n",
        "sleep(1.5)   # finding in seacrh tab:\n",
        "\n",
        "g_input = driver.find_element_by_xpath('.//input[@class=\"gLFyf gsfi\"]')\n",
        "my_text = 'KRISHA.KZ Павлодар'\n",
        "for char in my_text:\n",
        "    g_input.send_keys(char)\n",
        "    nn = random.random() * 0.05\n",
        "    sleep(nn)\n",
        "# after we found, then click on it:\n",
        "search_button = driver.find_element_by_xpath('.//input[@class=\"gNO89b\"]')\n",
        "search_button.click()\n",
        "sleep(1)\n",
        "# after we found, then going through it:\n",
        "results = driver.find_elements_by_xpath('.//div[@class=\"yuRUbf\"]')\n",
        "results[0].click()\n",
        "sleep(2)\n",
        "# scrolling the webpage:\n",
        "driver.execute_script(\"window.scrollTo(0, document.body.scrollHeight);\")\n",
        "sleep(5)\n",
        "# driver.close()"
      ]
    },
    {
      "cell_type": "markdown",
      "metadata": {
        "id": "F6lqfjOPLh6n"
      },
      "source": [
        "## ✤ Finding links of the first 6 pages:"
      ]
    },
    {
      "cell_type": "code",
      "execution_count": null,
      "metadata": {
        "id": "Q_831WCLLh6n"
      },
      "outputs": [],
      "source": [
        "# Creating a function, which will show Main pages, first 6 page links:\n",
        "def showMainLinks():\n",
        "    driver = webdriver.Chrome(executable_path = r'C:\\Users\\клиент\\Desktop\\3.Info Retriev & Data M\\4. Week-5\\chromedriver.exe')\n",
        "    driver.maximize_window()\n",
        "    driver.get('https://krisha.kz/prodazha/kvartiry/pavlodar/')\n",
        "    \n",
        "    # finding nav with class \"paginator\", where located main links:\n",
        "    main_pages = driver.find_elements_by_xpath('.//nav[@class=\"paginator\"]')\n",
        "    pages_list =[]\n",
        "    for a in main_pages:   # with loop, finding tags with \"a\":\n",
        "        link = a.find_elements_by_tag_name('a')\n",
        "        for b in link:     # with loop, collecting \"href\" urls:\n",
        "            page_link = b.get_attribute('href')\n",
        "            pages_list.append(page_link)\n",
        "            \n",
        "    return pages_list[:8]   # show pages till 6th page\n",
        "    driver.quit()"
      ]
    },
    {
      "cell_type": "code",
      "execution_count": null,
      "metadata": {
        "id": "65ndQbRILh6o",
        "outputId": "abde4459-3673-4662-8cc3-47afd3d4c8bc"
      },
      "outputs": [
        {
          "data": {
            "text/plain": [
              "['https://krisha.kz/prodazha/kvartiry/pavlodar/',\n",
              " 'https://krisha.kz/prodazha/kvartiry/pavlodar/?page=2',\n",
              " 'https://krisha.kz/prodazha/kvartiry/pavlodar/?page=3',\n",
              " 'https://krisha.kz/prodazha/kvartiry/pavlodar/?page=4',\n",
              " 'https://krisha.kz/prodazha/kvartiry/pavlodar/?page=5',\n",
              " 'https://krisha.kz/prodazha/kvartiry/pavlodar/?page=6',\n",
              " 'https://krisha.kz/prodazha/kvartiry/pavlodar/?page=7',\n",
              " 'https://krisha.kz/prodazha/kvartiry/pavlodar/?page=8']"
            ]
          },
          "execution_count": 50,
          "metadata": {},
          "output_type": "execute_result"
        }
      ],
      "source": [
        "# showing all main links by a function:\n",
        "showMainLinks()"
      ]
    },
    {
      "cell_type": "markdown",
      "metadata": {
        "id": "iA4-9eGELh6o"
      },
      "source": [
        "### Creating a function to see Details:"
      ]
    },
    {
      "cell_type": "code",
      "execution_count": null,
      "metadata": {
        "id": "r024XroKLh6p"
      },
      "outputs": [],
      "source": [
        "def showApartmentDetails():\n",
        "    driver = webdriver.Chrome(executable_path = r'C:\\Users\\клиент\\Desktop\\3.Info Retriev & Data M\\4. Week-5\\chromedriver.exe')\n",
        "    # selecting first 5 pages:\n",
        "    apartmentDetails = []\n",
        "    for i in range(1,2):\n",
        "        driver.get('https://krisha.kz/prodazha/kvartiry/pavlodar/?page=' + str(i))\n",
        "    # selecting all apartment links:\n",
        "        links = driver.find_elements_by_xpath(\"//a[contains(@class,'a-card__title')]\")        \n",
        "\n",
        "        for a in links:\n",
        "            driver = webdriver.Chrome(executable_path = r'C:\\Users\\клиент\\Desktop\\3.Info Retriev & Data M\\4. Week-5\\chromedriver.exe')\n",
        "            url = a.get_attribute('href')\n",
        "            driver.get(url)       \n",
        "            \n",
        "            name = driver.find_element_by_xpath('.//div[@class=\"offer__advert-title\"]/h1')\n",
        "            city = driver.find_element_by_xpath('.//div[@class=\"offer__location offer__advert-short-info\"]/span')\n",
        "            house = driver.find_element_by_xpath('.//div[@data-name=\"flat.building\"]/div[@class=\"offer__advert-short-info\"]')\n",
        "            price = driver.find_element_by_class_name(\"offer__price\").text\n",
        "            try:\n",
        "                sq_metre = driver.find_element_by_xpath('.//div[@data-name=\"live.square\"]/div[@class=\"offer__advert-short-info\"]')\n",
        "            except:\n",
        "                sq_metre = 'Nan' \n",
        "            try:   \n",
        "                floor = driver.find_element_by_xpath('.//div[@data-name=\"flat.floor\"]/div[@class=\"offer__advert-short-info\"]')\n",
        "            except:\n",
        "                floor = 'Nan'                \n",
        "           \n",
        "            try:      \n",
        "                text = driver.find_element_by_id('tm-telephone-body').click()\n",
        "                phone = driver.find_element_by_class_name('ofer__contacts-phones').text\n",
        "                # phone = phone.replace('\\n',',')\n",
        "            except:\n",
        "                phone = 'Nan'\n",
        "            try:\n",
        "                owner = driver.find_element_by_xpath('.//div[@class=\"owners__name owners__name--large\"]')\n",
        "            except:\n",
        "                owner = 'Nan'    \n",
        "        \n",
        "            apartmentDetails.append(name.text)\n",
        "            apartmentDetails.append(city.text)\n",
        "            apartmentDetails.append(house.text)\n",
        "            apartmentDetails.append(sq_metre.text)\n",
        "            apartmentDetails.append(floor.text)\n",
        "            apartmentDetails.append(price)\n",
        "            apartmentDetails.append(owner)\n",
        "            apartmentDetails.append(phone)\n",
        "            link = url\n",
        "            apartmentDetails.append(link)\n",
        "\n",
        "        return apartmentDetails"
      ]
    },
    {
      "cell_type": "code",
      "execution_count": null,
      "metadata": {
        "id": "1YzaQ6QpLh6q"
      },
      "outputs": [],
      "source": [
        "# showApartmentDetails()"
      ]
    },
    {
      "cell_type": "code",
      "execution_count": null,
      "metadata": {
        "id": "wUfAFPZiLh6q"
      },
      "outputs": [],
      "source": [
        "import pandas as pd"
      ]
    },
    {
      "cell_type": "code",
      "execution_count": null,
      "metadata": {
        "id": "Hxjog9CeLh6q",
        "outputId": "5d96a7d7-d488-44f0-bde7-66384656bd2c"
      },
      "outputs": [
        {
          "data": {
            "text/html": [
              "<div>\n",
              "<style scoped>\n",
              "    .dataframe tbody tr th:only-of-type {\n",
              "        vertical-align: middle;\n",
              "    }\n",
              "\n",
              "    .dataframe tbody tr th {\n",
              "        vertical-align: top;\n",
              "    }\n",
              "\n",
              "    .dataframe thead th {\n",
              "        text-align: right;\n",
              "    }\n",
              "</style>\n",
              "<table border=\"1\" class=\"dataframe\">\n",
              "  <thead>\n",
              "    <tr style=\"text-align: right;\">\n",
              "      <th></th>\n",
              "      <th>City</th>\n",
              "      <th>Description</th>\n",
              "      <th>Owner</th>\n",
              "      <th>Price</th>\n",
              "      <th>Sq_metre</th>\n",
              "      <th>Floor</th>\n",
              "      <th>Phone</th>\n",
              "      <th>Link</th>\n",
              "    </tr>\n",
              "  </thead>\n",
              "  <tbody>\n",
              "  </tbody>\n",
              "</table>\n",
              "</div>"
            ],
            "text/plain": [
              "Empty DataFrame\n",
              "Columns: [City, Description, Owner, Price, Sq_metre, Floor, Phone, Link]\n",
              "Index: []"
            ]
          },
          "execution_count": 51,
          "metadata": {},
          "output_type": "execute_result"
        }
      ],
      "source": [
        "dataset = pd.DataFrame(columns=[\"City\", \"Description\", \"Owner\", \"Price\", \"Sq_metre\", \"Floor\", \"Phone\", \"Link\"])\n",
        "dataset"
      ]
    },
    {
      "cell_type": "markdown",
      "metadata": {
        "id": "23XwZchnLh6r"
      },
      "source": [
        "## ✤ Now, I can save my data into EXCEL FILE:"
      ]
    },
    {
      "cell_type": "code",
      "execution_count": null,
      "metadata": {
        "id": "m3ReQsgrLh6r"
      },
      "outputs": [],
      "source": [
        "dataset.to_excel(\"DayanaKassenova-hw-5.xlsx\")"
      ]
    },
    {
      "cell_type": "code",
      "execution_count": null,
      "metadata": {
        "id": "36YGwWZ2Lh6s"
      },
      "outputs": [],
      "source": [
        "# Importing 'must-have' Libraries like these:\n",
        "import numpy as np  # to access data in any formats.\n",
        "import seaborn as sns # to make graphs,correlation\n",
        "import matplotlib.pyplot as plt # to plot\n",
        "import pandas as pd"
      ]
    },
    {
      "cell_type": "code",
      "execution_count": null,
      "metadata": {
        "id": "Q4xPLaRnLh6s"
      },
      "outputs": [],
      "source": [
        "data = pd.read_excel(r'DayanaKassenova-hw-5.xlsx')"
      ]
    },
    {
      "cell_type": "code",
      "execution_count": null,
      "metadata": {
        "id": "txcLbhb8Lh6s",
        "outputId": "45c3e92e-e567-4903-95e6-48ce6f52b899"
      },
      "outputs": [
        {
          "data": {
            "text/html": [
              "<div>\n",
              "<style scoped>\n",
              "    .dataframe tbody tr th:only-of-type {\n",
              "        vertical-align: middle;\n",
              "    }\n",
              "\n",
              "    .dataframe tbody tr th {\n",
              "        vertical-align: top;\n",
              "    }\n",
              "\n",
              "    .dataframe thead th {\n",
              "        text-align: right;\n",
              "    }\n",
              "</style>\n",
              "<table border=\"1\" class=\"dataframe\">\n",
              "  <thead>\n",
              "    <tr style=\"text-align: right;\">\n",
              "      <th></th>\n",
              "      <th>Unnamed: 0</th>\n",
              "      <th>City</th>\n",
              "      <th>Description</th>\n",
              "      <th>Owner</th>\n",
              "      <th>Price</th>\n",
              "      <th>Sq_metre</th>\n",
              "      <th>Floor</th>\n",
              "      <th>Phone</th>\n",
              "      <th>Link</th>\n",
              "    </tr>\n",
              "  </thead>\n",
              "  <tbody>\n",
              "    <tr>\n",
              "      <th>0</th>\n",
              "      <td>0</td>\n",
              "      <td>Павлодар</td>\n",
              "      <td>1-комнатная квартира, 37 м², 1/9 этаж, Кутузова</td>\n",
              "      <td>Nan</td>\n",
              "      <td>8300000</td>\n",
              "      <td>37.0</td>\n",
              "      <td>1/9</td>\n",
              "      <td>+7 702 664435866</td>\n",
              "      <td>https://krisha.kz/a/show/664435866</td>\n",
              "    </tr>\n",
              "    <tr>\n",
              "      <th>1</th>\n",
              "      <td>1</td>\n",
              "      <td>Павлодар</td>\n",
              "      <td>3-комнатная квартира, 65 м², 4/9 этаж, Естая</td>\n",
              "      <td>Nan</td>\n",
              "      <td>15500000</td>\n",
              "      <td>65.0</td>\n",
              "      <td>4/9</td>\n",
              "      <td>+7 702 664656262</td>\n",
              "      <td>https://krisha.kz/a/show/664656262</td>\n",
              "    </tr>\n",
              "    <tr>\n",
              "      <th>2</th>\n",
              "      <td>2</td>\n",
              "      <td>Павлодар</td>\n",
              "      <td>2-комнатная квартира, 52.5 м², 6/9 этаж, Астан...</td>\n",
              "      <td>Nan</td>\n",
              "      <td>16500000</td>\n",
              "      <td>52.5</td>\n",
              "      <td>6/9</td>\n",
              "      <td>+7 707 664548087</td>\n",
              "      <td>https://krisha.kz/a/show/664548087</td>\n",
              "    </tr>\n",
              "    <tr>\n",
              "      <th>3</th>\n",
              "      <td>3</td>\n",
              "      <td>Павлодар</td>\n",
              "      <td>2-комнатная квартира, 52.9 м², 2/9 этаж, Машху...</td>\n",
              "      <td>Хозяин недвижимости</td>\n",
              "      <td>14500000</td>\n",
              "      <td>52.9</td>\n",
              "      <td>2/9</td>\n",
              "      <td>+7 702 664353053</td>\n",
              "      <td>https://krisha.kz/a/show/664353053</td>\n",
              "    </tr>\n",
              "    <tr>\n",
              "      <th>4</th>\n",
              "      <td>4</td>\n",
              "      <td>Павлодар</td>\n",
              "      <td>1-комнатная квартира, 34.8 м², 9/9 этаж, Назар...</td>\n",
              "      <td>Хозяин недвижимости</td>\n",
              "      <td>8000000</td>\n",
              "      <td>34.8</td>\n",
              "      <td>9/9</td>\n",
              "      <td>+7 778 664614592</td>\n",
              "      <td>https://krisha.kz/a/show/664614592</td>\n",
              "    </tr>\n",
              "    <tr>\n",
              "      <th>...</th>\n",
              "      <td>...</td>\n",
              "      <td>...</td>\n",
              "      <td>...</td>\n",
              "      <td>...</td>\n",
              "      <td>...</td>\n",
              "      <td>...</td>\n",
              "      <td>...</td>\n",
              "      <td>...</td>\n",
              "      <td>...</td>\n",
              "    </tr>\n",
              "    <tr>\n",
              "      <th>158</th>\n",
              "      <td>158</td>\n",
              "      <td>Павлодар</td>\n",
              "      <td>2-комнатная квартира, 53 м², 8/9 этаж, улица К...</td>\n",
              "      <td>Хозяин недвижимости</td>\n",
              "      <td>14500000</td>\n",
              "      <td>53.0</td>\n",
              "      <td>8/9</td>\n",
              "      <td>+7 705 661578511</td>\n",
              "      <td>https://krisha.kz/a/show/661578511</td>\n",
              "    </tr>\n",
              "    <tr>\n",
              "      <th>159</th>\n",
              "      <td>159</td>\n",
              "      <td>Павлодар</td>\n",
              "      <td>3-комнатная квартира, 64 м², 2/10 этаж, Дачный...</td>\n",
              "      <td>Хозяин недвижимости</td>\n",
              "      <td>16000000</td>\n",
              "      <td>64.0</td>\n",
              "      <td>2/10</td>\n",
              "      <td>+7 747 663794469</td>\n",
              "      <td>https://krisha.kz/a/show/663794469</td>\n",
              "    </tr>\n",
              "    <tr>\n",
              "      <th>160</th>\n",
              "      <td>160</td>\n",
              "      <td>Павлодар</td>\n",
              "      <td>4-комнатная квартира, 80 м², 1/6 этаж, Джамбул...</td>\n",
              "      <td>Хозяин недвижимости</td>\n",
              "      <td>19000000</td>\n",
              "      <td>80.0</td>\n",
              "      <td>1/6</td>\n",
              "      <td>+7 707 57488800</td>\n",
              "      <td>https://krisha.kz/a/show/57488800</td>\n",
              "    </tr>\n",
              "    <tr>\n",
              "      <th>161</th>\n",
              "      <td>161</td>\n",
              "      <td>Павлодар</td>\n",
              "      <td>3-комнатная квартира, 57 м², 5/5 этаж, улица А...</td>\n",
              "      <td>Хозяин недвижимости</td>\n",
              "      <td>12200000</td>\n",
              "      <td>57.0</td>\n",
              "      <td>5/5</td>\n",
              "      <td>+7 702 663693546</td>\n",
              "      <td>https://krisha.kz/a/show/663693546</td>\n",
              "    </tr>\n",
              "    <tr>\n",
              "      <th>162</th>\n",
              "      <td>162</td>\n",
              "      <td>Павлодар</td>\n",
              "      <td>1-комнатная квартира, 33.8 м², 10/10 этаж, Пр....</td>\n",
              "      <td>Хозяин недвижимости</td>\n",
              "      <td>9000000</td>\n",
              "      <td>33.8</td>\n",
              "      <td>10/10</td>\n",
              "      <td>+7 701 661734045</td>\n",
              "      <td>https://krisha.kz/a/show/661734045</td>\n",
              "    </tr>\n",
              "  </tbody>\n",
              "</table>\n",
              "<p>163 rows × 9 columns</p>\n",
              "</div>"
            ],
            "text/plain": [
              "     Unnamed: 0      City                                        Description  \\\n",
              "0             0  Павлодар    1-комнатная квартира, 37 м², 1/9 этаж, Кутузова   \n",
              "1             1  Павлодар       3-комнатная квартира, 65 м², 4/9 этаж, Естая   \n",
              "2             2  Павлодар  2-комнатная квартира, 52.5 м², 6/9 этаж, Астан...   \n",
              "3             3  Павлодар  2-комнатная квартира, 52.9 м², 2/9 этаж, Машху...   \n",
              "4             4  Павлодар  1-комнатная квартира, 34.8 м², 9/9 этаж, Назар...   \n",
              "..          ...       ...                                                ...   \n",
              "158         158  Павлодар  2-комнатная квартира, 53 м², 8/9 этаж, улица К...   \n",
              "159         159  Павлодар  3-комнатная квартира, 64 м², 2/10 этаж, Дачный...   \n",
              "160         160  Павлодар  4-комнатная квартира, 80 м², 1/6 этаж, Джамбул...   \n",
              "161         161  Павлодар  3-комнатная квартира, 57 м², 5/5 этаж, улица А...   \n",
              "162         162  Павлодар  1-комнатная квартира, 33.8 м², 10/10 этаж, Пр....   \n",
              "\n",
              "                   Owner     Price  Sq_metre  Floor             Phone  \\\n",
              "0                    Nan   8300000      37.0    1/9  +7 702 664435866   \n",
              "1                    Nan  15500000      65.0    4/9  +7 702 664656262   \n",
              "2                    Nan  16500000      52.5    6/9  +7 707 664548087   \n",
              "3    Хозяин недвижимости  14500000      52.9    2/9  +7 702 664353053   \n",
              "4    Хозяин недвижимости   8000000      34.8    9/9  +7 778 664614592   \n",
              "..                   ...       ...       ...    ...               ...   \n",
              "158  Хозяин недвижимости  14500000      53.0    8/9  +7 705 661578511   \n",
              "159  Хозяин недвижимости  16000000      64.0   2/10  +7 747 663794469   \n",
              "160  Хозяин недвижимости  19000000      80.0    1/6   +7 707 57488800   \n",
              "161  Хозяин недвижимости  12200000      57.0    5/5  +7 702 663693546   \n",
              "162  Хозяин недвижимости   9000000      33.8  10/10  +7 701 661734045   \n",
              "\n",
              "                                   Link  \n",
              "0    https://krisha.kz/a/show/664435866  \n",
              "1    https://krisha.kz/a/show/664656262  \n",
              "2    https://krisha.kz/a/show/664548087  \n",
              "3    https://krisha.kz/a/show/664353053  \n",
              "4    https://krisha.kz/a/show/664614592  \n",
              "..                                  ...  \n",
              "158  https://krisha.kz/a/show/661578511  \n",
              "159  https://krisha.kz/a/show/663794469  \n",
              "160   https://krisha.kz/a/show/57488800  \n",
              "161  https://krisha.kz/a/show/663693546  \n",
              "162  https://krisha.kz/a/show/661734045  \n",
              "\n",
              "[163 rows x 9 columns]"
            ]
          },
          "execution_count": 73,
          "metadata": {},
          "output_type": "execute_result"
        }
      ],
      "source": [
        "data"
      ]
    },
    {
      "cell_type": "markdown",
      "metadata": {
        "id": "V7fyEGpdLh6t"
      },
      "source": [
        "### ✤ Let's , make some analysis with my dataset from excel:"
      ]
    },
    {
      "cell_type": "code",
      "execution_count": null,
      "metadata": {
        "id": "t0wMzHsqLh6t",
        "outputId": "ed787bbd-b93e-442c-e95b-162a2876a5b3"
      },
      "outputs": [
        {
          "data": {
            "text/plain": [
              "(163, 9)"
            ]
          },
          "execution_count": 74,
          "metadata": {},
          "output_type": "execute_result"
        }
      ],
      "source": [
        "data.shape"
      ]
    },
    {
      "cell_type": "code",
      "execution_count": null,
      "metadata": {
        "id": "gGZ3RO11Lh6u",
        "outputId": "77e2b99e-6cce-4def-edce-5751e9d2c5f3"
      },
      "outputs": [
        {
          "data": {
            "text/plain": [
              "Index(['Unnamed: 0', 'City', 'Description', 'Owner', 'Price', 'Sq_metre',\n",
              "       'Floor', 'Phone', 'Link'],\n",
              "      dtype='object')"
            ]
          },
          "execution_count": 59,
          "metadata": {},
          "output_type": "execute_result"
        }
      ],
      "source": [
        "data.columns"
      ]
    },
    {
      "cell_type": "code",
      "execution_count": null,
      "metadata": {
        "id": "R329nmiQLh6u"
      },
      "outputs": [],
      "source": [
        "data['Description'] = data['Description'].astype(object)\n",
        "\n",
        "new = data['Description'].str.split(',', n=3, expand =True)\n",
        "data['Apartment'] = new[0]\n",
        "data['Area'] = new[1]\n",
        "data['Floor'] = new[2]\n",
        "data['Street'] = new[3]\n",
        "\n",
        "data.drop(columns =['Description', 'Unnamed: 0'], inplace = True)"
      ]
    },
    {
      "cell_type": "code",
      "execution_count": null,
      "metadata": {
        "id": "PWpkhYDxLh6v",
        "outputId": "605b41e8-debe-44cc-bded-016ece152ab4"
      },
      "outputs": [
        {
          "data": {
            "text/html": [
              "<div>\n",
              "<style scoped>\n",
              "    .dataframe tbody tr th:only-of-type {\n",
              "        vertical-align: middle;\n",
              "    }\n",
              "\n",
              "    .dataframe tbody tr th {\n",
              "        vertical-align: top;\n",
              "    }\n",
              "\n",
              "    .dataframe thead th {\n",
              "        text-align: right;\n",
              "    }\n",
              "</style>\n",
              "<table border=\"1\" class=\"dataframe\">\n",
              "  <thead>\n",
              "    <tr style=\"text-align: right;\">\n",
              "      <th></th>\n",
              "      <th>City</th>\n",
              "      <th>Owner</th>\n",
              "      <th>Price</th>\n",
              "      <th>Sq_metre</th>\n",
              "      <th>Floor</th>\n",
              "      <th>Phone</th>\n",
              "      <th>Link</th>\n",
              "      <th>Apartment</th>\n",
              "      <th>Area</th>\n",
              "      <th>Street</th>\n",
              "    </tr>\n",
              "  </thead>\n",
              "  <tbody>\n",
              "    <tr>\n",
              "      <th>0</th>\n",
              "      <td>Павлодар</td>\n",
              "      <td>Nan</td>\n",
              "      <td>8300000</td>\n",
              "      <td>37.0</td>\n",
              "      <td>1/9 этаж</td>\n",
              "      <td>+7 702 664435866</td>\n",
              "      <td>https://krisha.kz/a/show/664435866</td>\n",
              "      <td>1-комнатная квартира</td>\n",
              "      <td>37 м²</td>\n",
              "      <td>Кутузова</td>\n",
              "    </tr>\n",
              "    <tr>\n",
              "      <th>1</th>\n",
              "      <td>Павлодар</td>\n",
              "      <td>Nan</td>\n",
              "      <td>15500000</td>\n",
              "      <td>65.0</td>\n",
              "      <td>4/9 этаж</td>\n",
              "      <td>+7 702 664656262</td>\n",
              "      <td>https://krisha.kz/a/show/664656262</td>\n",
              "      <td>3-комнатная квартира</td>\n",
              "      <td>65 м²</td>\n",
              "      <td>Естая</td>\n",
              "    </tr>\n",
              "    <tr>\n",
              "      <th>2</th>\n",
              "      <td>Павлодар</td>\n",
              "      <td>Nan</td>\n",
              "      <td>16500000</td>\n",
              "      <td>52.5</td>\n",
              "      <td>6/9 этаж</td>\n",
              "      <td>+7 707 664548087</td>\n",
              "      <td>https://krisha.kz/a/show/664548087</td>\n",
              "      <td>2-комнатная квартира</td>\n",
              "      <td>52.5 м²</td>\n",
              "      <td>Астана 7/1</td>\n",
              "    </tr>\n",
              "    <tr>\n",
              "      <th>3</th>\n",
              "      <td>Павлодар</td>\n",
              "      <td>Хозяин недвижимости</td>\n",
              "      <td>14500000</td>\n",
              "      <td>52.9</td>\n",
              "      <td>2/9 этаж</td>\n",
              "      <td>+7 702 664353053</td>\n",
              "      <td>https://krisha.kz/a/show/664353053</td>\n",
              "      <td>2-комнатная квартира</td>\n",
              "      <td>52.9 м²</td>\n",
              "      <td>Машхура Жусупа 32 — Кривенко</td>\n",
              "    </tr>\n",
              "    <tr>\n",
              "      <th>4</th>\n",
              "      <td>Павлодар</td>\n",
              "      <td>Хозяин недвижимости</td>\n",
              "      <td>8000000</td>\n",
              "      <td>34.8</td>\n",
              "      <td>9/9 этаж</td>\n",
              "      <td>+7 778 664614592</td>\n",
              "      <td>https://krisha.kz/a/show/664614592</td>\n",
              "      <td>1-комнатная квартира</td>\n",
              "      <td>34.8 м²</td>\n",
              "      <td>Назарбаева 42</td>\n",
              "    </tr>\n",
              "  </tbody>\n",
              "</table>\n",
              "</div>"
            ],
            "text/plain": [
              "       City                Owner     Price  Sq_metre      Floor  \\\n",
              "0  Павлодар                  Nan   8300000      37.0   1/9 этаж   \n",
              "1  Павлодар                  Nan  15500000      65.0   4/9 этаж   \n",
              "2  Павлодар                  Nan  16500000      52.5   6/9 этаж   \n",
              "3  Павлодар  Хозяин недвижимости  14500000      52.9   2/9 этаж   \n",
              "4  Павлодар  Хозяин недвижимости   8000000      34.8   9/9 этаж   \n",
              "\n",
              "              Phone                                Link             Apartment  \\\n",
              "0  +7 702 664435866  https://krisha.kz/a/show/664435866  1-комнатная квартира   \n",
              "1  +7 702 664656262  https://krisha.kz/a/show/664656262  3-комнатная квартира   \n",
              "2  +7 707 664548087  https://krisha.kz/a/show/664548087  2-комнатная квартира   \n",
              "3  +7 702 664353053  https://krisha.kz/a/show/664353053  2-комнатная квартира   \n",
              "4  +7 778 664614592  https://krisha.kz/a/show/664614592  1-комнатная квартира   \n",
              "\n",
              "       Area                         Street  \n",
              "0     37 м²                       Кутузова  \n",
              "1     65 м²                          Естая  \n",
              "2   52.5 м²                     Астана 7/1  \n",
              "3   52.9 м²   Машхура Жусупа 32 — Кривенко  \n",
              "4   34.8 м²                  Назарбаева 42  "
            ]
          },
          "execution_count": 76,
          "metadata": {},
          "output_type": "execute_result"
        }
      ],
      "source": [
        "data.head()"
      ]
    },
    {
      "cell_type": "code",
      "execution_count": null,
      "metadata": {
        "id": "NPQVuKjWLh6v"
      },
      "outputs": [],
      "source": [
        "data.drop(columns =['Area'], inplace = True)"
      ]
    },
    {
      "cell_type": "code",
      "execution_count": null,
      "metadata": {
        "id": "zLOegjy8Lh6w"
      },
      "outputs": [],
      "source": [
        "data['Price']= data['Price'].astype(int)"
      ]
    },
    {
      "cell_type": "code",
      "execution_count": null,
      "metadata": {
        "id": "wUEA2-VxLh6w",
        "outputId": "dfda9834-593e-437c-a022-3c7e93ffd879"
      },
      "outputs": [
        {
          "name": "stdout",
          "output_type": "stream",
          "text": [
            "Mean is:  15476752.705521472\n",
            "Mode is:  0    14000000\n",
            "dtype: int32\n",
            "Median is:  14800000.0\n"
          ]
        }
      ],
      "source": [
        "print('Mean is: ',data['Price'].mean())\n",
        "print('Mode is: ',data['Price'].mode())\n",
        "print('Median is: ',data['Price'].median())"
      ]
    }
  ],
  "metadata": {
    "kernelspec": {
      "display_name": "Python 3",
      "language": "python",
      "name": "python3"
    },
    "language_info": {
      "codemirror_mode": {
        "name": "ipython",
        "version": 3
      },
      "file_extension": ".py",
      "mimetype": "text/x-python",
      "name": "python",
      "nbconvert_exporter": "python",
      "pygments_lexer": "ipython3",
      "version": "3.8.5"
    },
    "colab": {
      "provenance": []
    }
  },
  "nbformat": 4,
  "nbformat_minor": 0
}